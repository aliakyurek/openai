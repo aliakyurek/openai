{
 "cells": [
  {
   "cell_type": "markdown",
   "metadata": {},
   "source": [
    "## Raw Agent"
   ]
  },
  {
   "cell_type": "markdown",
   "metadata": {},
   "source": [
    "Slightly improved based on https://learn.deeplearning.ai/courses/ai-agents-in-langgraph"
   ]
  },
  {
   "cell_type": "code",
   "execution_count": null,
   "metadata": {},
   "outputs": [],
   "source": [
    "%pip install -r requirements.txt"
   ]
  },
  {
   "cell_type": "code",
   "execution_count": 181,
   "metadata": {},
   "outputs": [],
   "source": [
    "from openai import OpenAI\n",
    "from dotenv import load_dotenv\n",
    "from functools import partial\n",
    "import re\n",
    "_ = load_dotenv()"
   ]
  },
  {
   "cell_type": "code",
   "execution_count": 182,
   "metadata": {},
   "outputs": [],
   "source": [
    "def calculate(what):\n",
    "    return eval(what)\n",
    "\n",
    "def average_dog_weight(name):\n",
    "    if name in \"Scottish Terrier\": \n",
    "        return(\"Scottish Terriers average 20 lbs\")\n",
    "    elif name in \"Border Collie\":\n",
    "        return(\"a Border Collies average weight is 37 lbs\")\n",
    "    elif name in \"Toy Poodle\":\n",
    "        return(\"a toy poodles average weight is 7 lbs\")\n",
    "    else:\n",
    "        return(\"An average dog weights 50 lbs\")\n"
   ]
  },
  {
   "cell_type": "code",
   "execution_count": 183,
   "metadata": {},
   "outputs": [],
   "source": [
    "actions = [\n",
    "    {\n",
    "        \"name\": calculate,\n",
    "        \"usage\": \"e.g. calculate: 4 * 7 / 3\",\n",
    "        \"desc\": \"Runs a calculation and returns the number - uses Python so be sure to use floating point syntax if necessary\"\n",
    "    },\n",
    "    {\n",
    "        \"name\": average_dog_weight,\n",
    "        \"usage\": \"e.g. average_dog_weight: Scottish Terrier\",\n",
    "        \"desc\": \"Returns the average weight of a dog breed\"\n",
    "    }\n",
    "]"
   ]
  },
  {
   "cell_type": "code",
   "execution_count": 184,
   "metadata": {},
   "outputs": [],
   "source": [
    "prompt_template = \"\"\"\n",
    "You run in a loop of Thought, Action, PAUSE, Observation.\n",
    "At the end of the loop you output an Answer\n",
    "Use Thought to describe your thoughts about the question you have been asked.\n",
    "Use Action to run one of the actions available to you - then return PAUSE.\n",
    "Observation will be the result of running those actions.\n",
    "\n",
    "Your available actions are:\n",
    "\n",
    "{actions}\n",
    "Here is a session template:\n",
    "\n",
    "Question: [Users question]?\n",
    "Thought: [Your thought to use an action]\n",
    "Action: [selected action]: [action parameter]\n",
    "PAUSE\n",
    "\n",
    "You will be called again with the result of the action you selected::\n",
    "\n",
    "Observation: [action result]\n",
    "\n",
    "You then output:\n",
    "\n",
    "Answer: [Your answer]\n",
    "\"\"\""
   ]
  },
  {
   "cell_type": "code",
   "execution_count": 185,
   "metadata": {},
   "outputs": [],
   "source": [
    "class ReActAgent:\n",
    "    def __init__(self, prompt_template, actions, openai_model = \"gpt-4o-mini\"):\n",
    "        actions_in_prompt = \"\"\n",
    "        for a in actions:\n",
    "            actions_in_prompt += f\"{a['name'].__name__}\\n{a['usage']}\\n{a['desc']}\\n\\n\"\n",
    "\n",
    "        self.system = prompt_template.format(actions = actions_in_prompt)\n",
    "        self.messages = []\n",
    "        self.messages.append({\"role\": \"system\", \"content\": self.system})\n",
    "        self.chat = partial(OpenAI().chat.completions.create, model=openai_model, temperature=0)\n",
    "\n",
    "    def __call__(self, message):\n",
    "        self.messages.append({\"role\": \"user\", \"content\": message})\n",
    "        completion = self.chat(messages=self.messages)\n",
    "        out = completion.choices[0].message.content\n",
    "        self.messages.append({\"role\": \"assistant\", \"content\": out})\n",
    "        return out"
   ]
  },
  {
   "cell_type": "code",
   "execution_count": 186,
   "metadata": {},
   "outputs": [],
   "source": [
    "agent = ReActAgent(prompt_template, actions)"
   ]
  },
  {
   "cell_type": "markdown",
   "metadata": {},
   "source": [
    "**Checking the system prompt**"
   ]
  },
  {
   "cell_type": "code",
   "execution_count": null,
   "metadata": {},
   "outputs": [],
   "source": [
    "print(agent.system)"
   ]
  },
  {
   "cell_type": "markdown",
   "metadata": {},
   "source": [
    "**Testing Thought, Action, PAUSE**"
   ]
  },
  {
   "cell_type": "code",
   "execution_count": null,
   "metadata": {},
   "outputs": [],
   "source": [
    "out = agent(\"How much does a Toy Poodle weigh?\")\n",
    "print(out)\n"
   ]
  },
  {
   "cell_type": "markdown",
   "metadata": {},
   "source": [
    "**Testing action call, Observation**"
   ]
  },
  {
   "cell_type": "code",
   "execution_count": null,
   "metadata": {},
   "outputs": [],
   "source": [
    "obs = f\"Observation: {average_dog_weight(\"Toy Poodle\")}\"\n",
    "obs"
   ]
  },
  {
   "cell_type": "code",
   "execution_count": null,
   "metadata": {},
   "outputs": [],
   "source": [
    "out = agent(obs)\n",
    "print(out)"
   ]
  },
  {
   "cell_type": "markdown",
   "metadata": {},
   "source": [
    "**List of messages**"
   ]
  },
  {
   "cell_type": "code",
   "execution_count": null,
   "metadata": {},
   "outputs": [],
   "source": [
    "agent.messages"
   ]
  },
  {
   "cell_type": "markdown",
   "metadata": {},
   "source": [
    "## Looping"
   ]
  },
  {
   "cell_type": "markdown",
   "metadata": {},
   "source": [
    "**Parse action in the output**"
   ]
  },
  {
   "cell_type": "code",
   "execution_count": 150,
   "metadata": {},
   "outputs": [],
   "source": [
    "action_re = re.compile(r\"Action: (\\w+): (.*)\") "
   ]
  },
  {
   "cell_type": "code",
   "execution_count": 161,
   "metadata": {},
   "outputs": [],
   "source": [
    "ex_output = \"\"\"\n",
    "Question: How much does a Toy Poodle weigh?\n",
    "Thought: I need to find the average weight of a Toy Poodle, so I will use the average_dog_weight action.\n",
    "Action: average_dog_weight: Toy Poodle\n",
    "PAUSE\n",
    "\"\"\"\n",
    "r = action_re.search(ex_output)"
   ]
  },
  {
   "cell_type": "code",
   "execution_count": 156,
   "metadata": {},
   "outputs": [],
   "source": [
    "if(r):\n",
    "    action, param = r.groups()"
   ]
  },
  {
   "cell_type": "markdown",
   "metadata": {},
   "source": [
    "**Calling the selected action**"
   ]
  },
  {
   "cell_type": "code",
   "execution_count": null,
   "metadata": {},
   "outputs": [],
   "source": [
    "# Find the action with the name \"average_dog_weight\"\n",
    "action = next((a for a in actions if a['name'].__name__ == action), None)\n",
    "\n",
    "# Call the action if it exists\n",
    "if action:\n",
    "    result = action['name'](param)\n",
    "    print(result)"
   ]
  },
  {
   "cell_type": "markdown",
   "metadata": {},
   "source": [
    "**Building all together**"
   ]
  },
  {
   "cell_type": "code",
   "execution_count": 177,
   "metadata": {},
   "outputs": [],
   "source": [
    "def ask_agent(agent, question, max_turn=5):\n",
    "    out = \"\"\n",
    "    next_input_to_agent = question\n",
    "    for i in range(max_turn):\n",
    "        out = agent(next_input_to_agent)\n",
    "        r = action_re.search(out)\n",
    "        if not(r):\n",
    "            # if there's no action to call then we are done\n",
    "            break\n",
    "        print(\"--- Agent thought process ------\")\n",
    "        print(out)\n",
    "        print(\"--------------------------------\")\n",
    "        \n",
    "        action, param = r.groups()\n",
    "        action = next((a for a in actions if a['name'].__name__ == action), None)\n",
    "        if not(action):\n",
    "            raise Exception(f\"Unknown action: {action}\")\n",
    "        next_input_to_agent = f\"Observation: {action['name'](param)})\"\n",
    "    return out\n",
    "    "
   ]
  },
  {
   "cell_type": "code",
   "execution_count": null,
   "metadata": {},
   "outputs": [],
   "source": [
    "agent = ReActAgent(prompt_template, actions)\n",
    "answer = ask_agent(agent, \"How much does a Toy Poodle weigh?\")\n",
    "print(answer)\n"
   ]
  },
  {
   "cell_type": "code",
   "execution_count": null,
   "metadata": {},
   "outputs": [],
   "source": [
    "agent = ReActAgent(prompt_template, actions)\n",
    "answer = ask_agent(agent, \"I have 2 dogs, a border collie and a scottish terrier.\\\n",
    "                 What is their combined weight\")\n",
    "print(answer)"
   ]
  }
 ],
 "metadata": {
  "kernelspec": {
   "display_name": ".venv",
   "language": "python",
   "name": "python3"
  },
  "language_info": {
   "codemirror_mode": {
    "name": "ipython",
    "version": 3
   },
   "file_extension": ".py",
   "mimetype": "text/x-python",
   "name": "python",
   "nbconvert_exporter": "python",
   "pygments_lexer": "ipython3",
   "version": "3.12.7"
  }
 },
 "nbformat": 4,
 "nbformat_minor": 2
}
