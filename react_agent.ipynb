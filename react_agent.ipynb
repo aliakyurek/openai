{
 "cells": [
  {
   "cell_type": "markdown",
   "metadata": {},
   "source": [
    "## Raw Agent"
   ]
  },
  {
   "cell_type": "markdown",
   "metadata": {},
   "source": [
    "Slightly improved based on https://learn.deeplearning.ai/courses/ai-agents-in-langgraph"
   ]
  },
  {
   "cell_type": "code",
   "execution_count": 18,
   "metadata": {},
   "outputs": [
    {
     "name": "stdout",
     "output_type": "stream",
     "text": [
      "Note: you may need to restart the kernel to use updated packages.\n"
     ]
    }
   ],
   "source": [
    "%pip install -q -r requirements.txt"
   ]
  },
  {
   "cell_type": "code",
   "execution_count": 19,
   "metadata": {},
   "outputs": [],
   "source": [
    "from openai import OpenAI\n",
    "from dotenv import load_dotenv\n",
    "from functools import partial\n",
    "import re\n",
    "_ = load_dotenv()"
   ]
  },
  {
   "cell_type": "code",
   "execution_count": 20,
   "metadata": {},
   "outputs": [],
   "source": [
    "def calculate(what):\n",
    "    return eval(what)\n",
    "\n",
    "def average_dog_weight(name):\n",
    "    if name in \"Scottish Terrier\": \n",
    "        return(\"Scottish Terriers average 20 lbs\")\n",
    "    elif name in \"Border Collie\":\n",
    "        return(\"a Border Collies average weight is 37 lbs\")\n",
    "    elif name in \"Toy Poodle\":\n",
    "        return(\"a toy poodles average weight is 7 lbs\")\n",
    "    else:\n",
    "        return(\"An average dog weights 50 lbs\")\n"
   ]
  },
  {
   "cell_type": "code",
   "execution_count": 21,
   "metadata": {},
   "outputs": [],
   "source": [
    "actions = [\n",
    "    {\n",
    "        \"name\": calculate,\n",
    "        \"usage\": \"e.g. calculate: 4 * 7 / 3\",\n",
    "        \"desc\": \"Runs a calculation and returns the number - uses Python so be sure to use floating point syntax if necessary\"\n",
    "    },\n",
    "    {\n",
    "        \"name\": average_dog_weight,\n",
    "        \"usage\": \"e.g. average_dog_weight: Scottish Terrier\",\n",
    "        \"desc\": \"Returns the average weight of a dog breed\"\n",
    "    }\n",
    "]"
   ]
  },
  {
   "cell_type": "code",
   "execution_count": 22,
   "metadata": {},
   "outputs": [],
   "source": [
    "prompt_template = \"\"\"\n",
    "You run in a loop of Thought, Action, PAUSE, Observation.\n",
    "At the end of the loop you output an Answer\n",
    "Use Thought to describe your thoughts about the question you have been asked.\n",
    "Use Action to run one of the actions available to you - then return PAUSE.\n",
    "Observation will be the result of running those actions.\n",
    "\n",
    "Your available actions are:\n",
    "\n",
    "{actions}\n",
    "Here is a session template:\n",
    "\n",
    "Question: [Users question]?\n",
    "Thought: [Your thought to use an action]\n",
    "Action: [selected action]: [action parameter]\n",
    "PAUSE\n",
    "\n",
    "You will be called again with the result of the action you selected::\n",
    "\n",
    "Observation: [action result]\n",
    "\n",
    "You then output:\n",
    "\n",
    "Answer: [Your answer]\n",
    "\"\"\""
   ]
  },
  {
   "cell_type": "code",
   "execution_count": 23,
   "metadata": {},
   "outputs": [],
   "source": [
    "class ReActAgent:\n",
    "    def __init__(self, prompt_template, actions, openai_model = \"gpt-4o-mini\"):\n",
    "        actions_in_prompt = \"\"\n",
    "        for a in actions:\n",
    "            actions_in_prompt += f\"{a['name'].__name__}\\n{a['usage']}\\n{a['desc']}\\n\\n\"\n",
    "\n",
    "        self.system = prompt_template.format(actions = actions_in_prompt)\n",
    "        self.messages = []\n",
    "        self.messages.append({\"role\": \"system\", \"content\": self.system})\n",
    "        self.chat = partial(OpenAI().chat.completions.create, model=openai_model, temperature=0)\n",
    "\n",
    "    def __call__(self, message):\n",
    "        self.messages.append({\"role\": \"user\", \"content\": message})\n",
    "        completion = self.chat(messages=self.messages)\n",
    "        out = completion.choices[0].message.content\n",
    "        self.messages.append({\"role\": \"assistant\", \"content\": out})\n",
    "        return out"
   ]
  },
  {
   "cell_type": "code",
   "execution_count": 24,
   "metadata": {},
   "outputs": [],
   "source": [
    "agent = ReActAgent(prompt_template, actions)"
   ]
  },
  {
   "cell_type": "markdown",
   "metadata": {},
   "source": [
    "**Checking the system prompt**"
   ]
  },
  {
   "cell_type": "code",
   "execution_count": 25,
   "metadata": {},
   "outputs": [
    {
     "name": "stdout",
     "output_type": "stream",
     "text": [
      "\n",
      "You run in a loop of Thought, Action, PAUSE, Observation.\n",
      "At the end of the loop you output an Answer\n",
      "Use Thought to describe your thoughts about the question you have been asked.\n",
      "Use Action to run one of the actions available to you - then return PAUSE.\n",
      "Observation will be the result of running those actions.\n",
      "\n",
      "Your available actions are:\n",
      "\n",
      "calculate\n",
      "e.g. calculate: 4 * 7 / 3\n",
      "Runs a calculation and returns the number - uses Python so be sure to use floating point syntax if necessary\n",
      "\n",
      "average_dog_weight\n",
      "e.g. average_dog_weight: Scottish Terrier\n",
      "Returns the average weight of a dog breed\n",
      "\n",
      "\n",
      "Here is a session template:\n",
      "\n",
      "Question: [Users question]?\n",
      "Thought: [Your thought to use an action]\n",
      "Action: [selected action]: [action parameter]\n",
      "PAUSE\n",
      "\n",
      "You will be called again with the result of the action you selected::\n",
      "\n",
      "Observation: [action result]\n",
      "\n",
      "You then output:\n",
      "\n",
      "Answer: [Your answer]\n",
      "\n"
     ]
    }
   ],
   "source": [
    "print(agent.system)"
   ]
  },
  {
   "cell_type": "markdown",
   "metadata": {},
   "source": [
    "**Testing Thought, Action, PAUSE**"
   ]
  },
  {
   "cell_type": "code",
   "execution_count": 26,
   "metadata": {},
   "outputs": [
    {
     "name": "stdout",
     "output_type": "stream",
     "text": [
      "Question: How much does a Toy Poodle weigh?\n",
      "Thought: I need to find the average weight of a Toy Poodle, so I will use the average_dog_weight action.\n",
      "Action: average_dog_weight: Toy Poodle\n",
      "PAUSE\n"
     ]
    }
   ],
   "source": [
    "out = agent(\"How much does a Toy Poodle weigh?\")\n",
    "print(out)\n"
   ]
  },
  {
   "cell_type": "markdown",
   "metadata": {},
   "source": [
    "**Testing action call, Observation**"
   ]
  },
  {
   "cell_type": "code",
   "execution_count": 27,
   "metadata": {},
   "outputs": [
    {
     "data": {
      "text/plain": [
       "'Observation: a toy poodles average weight is 7 lbs'"
      ]
     },
     "execution_count": 27,
     "metadata": {},
     "output_type": "execute_result"
    }
   ],
   "source": [
    "obs = f\"Observation: {average_dog_weight(\"Toy Poodle\")}\"\n",
    "obs"
   ]
  },
  {
   "cell_type": "code",
   "execution_count": 28,
   "metadata": {},
   "outputs": [
    {
     "name": "stdout",
     "output_type": "stream",
     "text": [
      "Answer: A Toy Poodle weighs on average 7 lbs.\n"
     ]
    }
   ],
   "source": [
    "out = agent(obs)\n",
    "print(out)"
   ]
  },
  {
   "cell_type": "markdown",
   "metadata": {},
   "source": [
    "**List of messages**"
   ]
  },
  {
   "cell_type": "code",
   "execution_count": 29,
   "metadata": {},
   "outputs": [
    {
     "data": {
      "text/plain": [
       "[{'role': 'system',\n",
       "  'content': '\\nYou run in a loop of Thought, Action, PAUSE, Observation.\\nAt the end of the loop you output an Answer\\nUse Thought to describe your thoughts about the question you have been asked.\\nUse Action to run one of the actions available to you - then return PAUSE.\\nObservation will be the result of running those actions.\\n\\nYour available actions are:\\n\\ncalculate\\ne.g. calculate: 4 * 7 / 3\\nRuns a calculation and returns the number - uses Python so be sure to use floating point syntax if necessary\\n\\naverage_dog_weight\\ne.g. average_dog_weight: Scottish Terrier\\nReturns the average weight of a dog breed\\n\\n\\nHere is a session template:\\n\\nQuestion: [Users question]?\\nThought: [Your thought to use an action]\\nAction: [selected action]: [action parameter]\\nPAUSE\\n\\nYou will be called again with the result of the action you selected::\\n\\nObservation: [action result]\\n\\nYou then output:\\n\\nAnswer: [Your answer]\\n'},\n",
       " {'role': 'user', 'content': 'How much does a Toy Poodle weigh?'},\n",
       " {'role': 'assistant',\n",
       "  'content': 'Question: How much does a Toy Poodle weigh?\\nThought: I need to find the average weight of a Toy Poodle, so I will use the average_dog_weight action.\\nAction: average_dog_weight: Toy Poodle\\nPAUSE'},\n",
       " {'role': 'user',\n",
       "  'content': 'Observation: a toy poodles average weight is 7 lbs'},\n",
       " {'role': 'assistant',\n",
       "  'content': 'Answer: A Toy Poodle weighs on average 7 lbs.'}]"
      ]
     },
     "execution_count": 29,
     "metadata": {},
     "output_type": "execute_result"
    }
   ],
   "source": [
    "agent.messages"
   ]
  },
  {
   "cell_type": "markdown",
   "metadata": {},
   "source": [
    "## Looping"
   ]
  },
  {
   "cell_type": "markdown",
   "metadata": {},
   "source": [
    "**Parse action in the output**"
   ]
  },
  {
   "cell_type": "code",
   "execution_count": 30,
   "metadata": {},
   "outputs": [],
   "source": [
    "action_re = re.compile(r\"Action: (\\w+): (.*)\") "
   ]
  },
  {
   "cell_type": "code",
   "execution_count": 31,
   "metadata": {},
   "outputs": [],
   "source": [
    "ex_output = \"\"\"\n",
    "Question: How much does a Toy Poodle weigh?\n",
    "Thought: I need to find the average weight of a Toy Poodle, so I will use the average_dog_weight action.\n",
    "Action: average_dog_weight: Toy Poodle\n",
    "PAUSE\n",
    "\"\"\"\n",
    "r = action_re.search(ex_output)"
   ]
  },
  {
   "cell_type": "code",
   "execution_count": 32,
   "metadata": {},
   "outputs": [],
   "source": [
    "if(r):\n",
    "    action, param = r.groups()"
   ]
  },
  {
   "cell_type": "markdown",
   "metadata": {},
   "source": [
    "**Calling the selected action**"
   ]
  },
  {
   "cell_type": "code",
   "execution_count": 33,
   "metadata": {},
   "outputs": [
    {
     "name": "stdout",
     "output_type": "stream",
     "text": [
      "a toy poodles average weight is 7 lbs\n"
     ]
    }
   ],
   "source": [
    "# Find the action with the name \"average_dog_weight\"\n",
    "action = next((a for a in actions if a['name'].__name__ == action), None)\n",
    "\n",
    "# Call the action if it exists\n",
    "if action:\n",
    "    result = action['name'](param)\n",
    "    print(result)"
   ]
  },
  {
   "cell_type": "markdown",
   "metadata": {},
   "source": [
    "**Building all together**"
   ]
  },
  {
   "cell_type": "code",
   "execution_count": 34,
   "metadata": {},
   "outputs": [],
   "source": [
    "def ask_agent(agent, question, max_turn=5):\n",
    "    out = \"\"\n",
    "    next_input_to_agent = question\n",
    "    for i in range(max_turn):\n",
    "        out = agent(next_input_to_agent)\n",
    "        r = action_re.search(out)\n",
    "        if not(r):\n",
    "            # if there's no action to call then we are done\n",
    "            break\n",
    "        print(\"--- Agent thought process ------\")\n",
    "        print(out)\n",
    "        print(\"--------------------------------\")\n",
    "        \n",
    "        action, param = r.groups()\n",
    "        action = next((a for a in actions if a['name'].__name__ == action), None)\n",
    "        if not(action):\n",
    "            raise Exception(f\"Unknown action: {action}\")\n",
    "        next_input_to_agent = f\"Observation: {action['name'](param)})\"\n",
    "    return out\n",
    "    "
   ]
  },
  {
   "cell_type": "code",
   "execution_count": 35,
   "metadata": {},
   "outputs": [
    {
     "name": "stdout",
     "output_type": "stream",
     "text": [
      "--- Agent thought process ------\n",
      "Question: How much does a Toy Poodle weigh?\n",
      "Thought: I need to find the average weight of a Toy Poodle, so I will use the average_dog_weight action.\n",
      "Action: average_dog_weight: Toy Poodle\n",
      "PAUSE\n",
      "--------------------------------\n",
      "Answer: A Toy Poodle weighs on average 7 lbs.\n"
     ]
    }
   ],
   "source": [
    "agent = ReActAgent(prompt_template, actions)\n",
    "answer = ask_agent(agent, \"How much does a Toy Poodle weigh?\")\n",
    "print(answer)\n"
   ]
  },
  {
   "cell_type": "code",
   "execution_count": 36,
   "metadata": {},
   "outputs": [
    {
     "name": "stdout",
     "output_type": "stream",
     "text": [
      "--- Agent thought process ------\n",
      "Thought: I need to find the average weight of both a Border Collie and a Scottish Terrier to calculate their combined weight. I will first get the average weight of each breed. \n",
      "Action: average_dog_weight: Border Collie\n",
      "PAUSE\n",
      "--------------------------------\n",
      "--- Agent thought process ------\n",
      "Thought: Now that I have the average weight of the Border Collie, I need to find the average weight of the Scottish Terrier to calculate their combined weight. \n",
      "Action: average_dog_weight: Scottish Terrier\n",
      "PAUSE\n",
      "--------------------------------\n",
      "--- Agent thought process ------\n",
      "Thought: I now have the average weights of both dogs: the Border Collie is 37 lbs and the Scottish Terrier is 20 lbs. I will calculate their combined weight by adding these two weights together. \n",
      "Action: calculate: 37 + 20\n",
      "PAUSE\n",
      "--------------------------------\n",
      "Answer: The combined weight of your Border Collie and Scottish Terrier is 57 lbs.\n"
     ]
    }
   ],
   "source": [
    "agent = ReActAgent(prompt_template, actions)\n",
    "answer = ask_agent(agent, \"I have 2 dogs, a border collie and a scottish terrier.\\\n",
    "                 What is their combined weight\")\n",
    "print(answer)"
   ]
  },
  {
   "cell_type": "code",
   "execution_count": null,
   "metadata": {},
   "outputs": [],
   "source": []
  }
 ],
 "metadata": {
  "kernelspec": {
   "display_name": ".venv",
   "language": "python",
   "name": "python3"
  },
  "language_info": {
   "codemirror_mode": {
    "name": "ipython",
    "version": 3
   },
   "file_extension": ".py",
   "mimetype": "text/x-python",
   "name": "python",
   "nbconvert_exporter": "python",
   "pygments_lexer": "ipython3",
   "version": "3.12.7"
  }
 },
 "nbformat": 4,
 "nbformat_minor": 2
}
